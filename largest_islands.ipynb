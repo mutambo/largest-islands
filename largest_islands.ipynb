{
  "cells": [
    {
      "cell_type": "markdown",
      "metadata": {
        "id": "hKv4TWyiuzDU"
      },
      "source": [
        "# World's largest islands\n",
        "\n",
        "This dataset `largest-islands.csv` contains information about the 100 largest islands in the world. The unit for the `area` column is km2."
      ]
    },
    {
      "cell_type": "code",
      "execution_count": 3,
      "metadata": {
        "id": "1Z_3Q7bWuzDY"
      },
      "outputs": [],
      "source": [
        "# FOR GOOGLE COLAB ONLY.\n",
        "# Uncomment and run the code below. A dialog will appear to upload files.\n",
        "# Upload 'largest-islands.csv'.\n",
        "\n",
        "# from google.colab import files\n",
        "# uploaded = files.upload()"
      ]
    },
    {
      "cell_type": "code",
      "execution_count": 4,
      "metadata": {
        "colab": {
          "base_uri": "https://localhost:8080/",
          "height": 206
        },
        "id": "fJ4wEq_YuzDb",
        "outputId": "9f078b0e-b013-4265-b826-79ff93727075"
      },
      "outputs": [
        {
          "output_type": "execute_result",
          "data": {
            "text/plain": [
              "      region      island    area                countries    climate  rank\n",
              "0     Africa  Madagascar  591896               Madagascar    tropics     4\n",
              "1  Antarctic   Kerguelen    6200  Antarctic Lands, France  temperate    91\n",
              "2       Asia       Sumba   11153                Indonesia    tropics    65\n",
              "3       Asia      Hainan   34300                    China    tropics    37\n",
              "4       Asia      Taiwan   36198                   Taiwan    tropics    36"
            ],
            "text/html": [
              "\n",
              "  <div id=\"df-265ead61-8ac8-4008-874f-51278c3faa58\" class=\"colab-df-container\">\n",
              "    <div>\n",
              "<style scoped>\n",
              "    .dataframe tbody tr th:only-of-type {\n",
              "        vertical-align: middle;\n",
              "    }\n",
              "\n",
              "    .dataframe tbody tr th {\n",
              "        vertical-align: top;\n",
              "    }\n",
              "\n",
              "    .dataframe thead th {\n",
              "        text-align: right;\n",
              "    }\n",
              "</style>\n",
              "<table border=\"1\" class=\"dataframe\">\n",
              "  <thead>\n",
              "    <tr style=\"text-align: right;\">\n",
              "      <th></th>\n",
              "      <th>region</th>\n",
              "      <th>island</th>\n",
              "      <th>area</th>\n",
              "      <th>countries</th>\n",
              "      <th>climate</th>\n",
              "      <th>rank</th>\n",
              "    </tr>\n",
              "  </thead>\n",
              "  <tbody>\n",
              "    <tr>\n",
              "      <th>0</th>\n",
              "      <td>Africa</td>\n",
              "      <td>Madagascar</td>\n",
              "      <td>591896</td>\n",
              "      <td>Madagascar</td>\n",
              "      <td>tropics</td>\n",
              "      <td>4</td>\n",
              "    </tr>\n",
              "    <tr>\n",
              "      <th>1</th>\n",
              "      <td>Antarctic</td>\n",
              "      <td>Kerguelen</td>\n",
              "      <td>6200</td>\n",
              "      <td>Antarctic Lands, France</td>\n",
              "      <td>temperate</td>\n",
              "      <td>91</td>\n",
              "    </tr>\n",
              "    <tr>\n",
              "      <th>2</th>\n",
              "      <td>Asia</td>\n",
              "      <td>Sumba</td>\n",
              "      <td>11153</td>\n",
              "      <td>Indonesia</td>\n",
              "      <td>tropics</td>\n",
              "      <td>65</td>\n",
              "    </tr>\n",
              "    <tr>\n",
              "      <th>3</th>\n",
              "      <td>Asia</td>\n",
              "      <td>Hainan</td>\n",
              "      <td>34300</td>\n",
              "      <td>China</td>\n",
              "      <td>tropics</td>\n",
              "      <td>37</td>\n",
              "    </tr>\n",
              "    <tr>\n",
              "      <th>4</th>\n",
              "      <td>Asia</td>\n",
              "      <td>Taiwan</td>\n",
              "      <td>36198</td>\n",
              "      <td>Taiwan</td>\n",
              "      <td>tropics</td>\n",
              "      <td>36</td>\n",
              "    </tr>\n",
              "  </tbody>\n",
              "</table>\n",
              "</div>\n",
              "    <div class=\"colab-df-buttons\">\n",
              "\n",
              "  <div class=\"colab-df-container\">\n",
              "    <button class=\"colab-df-convert\" onclick=\"convertToInteractive('df-265ead61-8ac8-4008-874f-51278c3faa58')\"\n",
              "            title=\"Convert this dataframe to an interactive table.\"\n",
              "            style=\"display:none;\">\n",
              "\n",
              "  <svg xmlns=\"http://www.w3.org/2000/svg\" height=\"24px\" viewBox=\"0 -960 960 960\">\n",
              "    <path d=\"M120-120v-720h720v720H120Zm60-500h600v-160H180v160Zm220 220h160v-160H400v160Zm0 220h160v-160H400v160ZM180-400h160v-160H180v160Zm440 0h160v-160H620v160ZM180-180h160v-160H180v160Zm440 0h160v-160H620v160Z\"/>\n",
              "  </svg>\n",
              "    </button>\n",
              "\n",
              "  <style>\n",
              "    .colab-df-container {\n",
              "      display:flex;\n",
              "      gap: 12px;\n",
              "    }\n",
              "\n",
              "    .colab-df-convert {\n",
              "      background-color: #E8F0FE;\n",
              "      border: none;\n",
              "      border-radius: 50%;\n",
              "      cursor: pointer;\n",
              "      display: none;\n",
              "      fill: #1967D2;\n",
              "      height: 32px;\n",
              "      padding: 0 0 0 0;\n",
              "      width: 32px;\n",
              "    }\n",
              "\n",
              "    .colab-df-convert:hover {\n",
              "      background-color: #E2EBFA;\n",
              "      box-shadow: 0px 1px 2px rgba(60, 64, 67, 0.3), 0px 1px 3px 1px rgba(60, 64, 67, 0.15);\n",
              "      fill: #174EA6;\n",
              "    }\n",
              "\n",
              "    .colab-df-buttons div {\n",
              "      margin-bottom: 4px;\n",
              "    }\n",
              "\n",
              "    [theme=dark] .colab-df-convert {\n",
              "      background-color: #3B4455;\n",
              "      fill: #D2E3FC;\n",
              "    }\n",
              "\n",
              "    [theme=dark] .colab-df-convert:hover {\n",
              "      background-color: #434B5C;\n",
              "      box-shadow: 0px 1px 3px 1px rgba(0, 0, 0, 0.15);\n",
              "      filter: drop-shadow(0px 1px 2px rgba(0, 0, 0, 0.3));\n",
              "      fill: #FFFFFF;\n",
              "    }\n",
              "  </style>\n",
              "\n",
              "    <script>\n",
              "      const buttonEl =\n",
              "        document.querySelector('#df-265ead61-8ac8-4008-874f-51278c3faa58 button.colab-df-convert');\n",
              "      buttonEl.style.display =\n",
              "        google.colab.kernel.accessAllowed ? 'block' : 'none';\n",
              "\n",
              "      async function convertToInteractive(key) {\n",
              "        const element = document.querySelector('#df-265ead61-8ac8-4008-874f-51278c3faa58');\n",
              "        const dataTable =\n",
              "          await google.colab.kernel.invokeFunction('convertToInteractive',\n",
              "                                                    [key], {});\n",
              "        if (!dataTable) return;\n",
              "\n",
              "        const docLinkHtml = 'Like what you see? Visit the ' +\n",
              "          '<a target=\"_blank\" href=https://colab.research.google.com/notebooks/data_table.ipynb>data table notebook</a>'\n",
              "          + ' to learn more about interactive tables.';\n",
              "        element.innerHTML = '';\n",
              "        dataTable['output_type'] = 'display_data';\n",
              "        await google.colab.output.renderOutput(dataTable, element);\n",
              "        const docLink = document.createElement('div');\n",
              "        docLink.innerHTML = docLinkHtml;\n",
              "        element.appendChild(docLink);\n",
              "      }\n",
              "    </script>\n",
              "  </div>\n",
              "\n",
              "\n",
              "    <div id=\"df-e443409f-852a-4905-a3b9-a86feb375814\">\n",
              "      <button class=\"colab-df-quickchart\" onclick=\"quickchart('df-e443409f-852a-4905-a3b9-a86feb375814')\"\n",
              "                title=\"Suggest charts\"\n",
              "                style=\"display:none;\">\n",
              "\n",
              "<svg xmlns=\"http://www.w3.org/2000/svg\" height=\"24px\"viewBox=\"0 0 24 24\"\n",
              "     width=\"24px\">\n",
              "    <g>\n",
              "        <path d=\"M19 3H5c-1.1 0-2 .9-2 2v14c0 1.1.9 2 2 2h14c1.1 0 2-.9 2-2V5c0-1.1-.9-2-2-2zM9 17H7v-7h2v7zm4 0h-2V7h2v10zm4 0h-2v-4h2v4z\"/>\n",
              "    </g>\n",
              "</svg>\n",
              "      </button>\n",
              "\n",
              "<style>\n",
              "  .colab-df-quickchart {\n",
              "      --bg-color: #E8F0FE;\n",
              "      --fill-color: #1967D2;\n",
              "      --hover-bg-color: #E2EBFA;\n",
              "      --hover-fill-color: #174EA6;\n",
              "      --disabled-fill-color: #AAA;\n",
              "      --disabled-bg-color: #DDD;\n",
              "  }\n",
              "\n",
              "  [theme=dark] .colab-df-quickchart {\n",
              "      --bg-color: #3B4455;\n",
              "      --fill-color: #D2E3FC;\n",
              "      --hover-bg-color: #434B5C;\n",
              "      --hover-fill-color: #FFFFFF;\n",
              "      --disabled-bg-color: #3B4455;\n",
              "      --disabled-fill-color: #666;\n",
              "  }\n",
              "\n",
              "  .colab-df-quickchart {\n",
              "    background-color: var(--bg-color);\n",
              "    border: none;\n",
              "    border-radius: 50%;\n",
              "    cursor: pointer;\n",
              "    display: none;\n",
              "    fill: var(--fill-color);\n",
              "    height: 32px;\n",
              "    padding: 0;\n",
              "    width: 32px;\n",
              "  }\n",
              "\n",
              "  .colab-df-quickchart:hover {\n",
              "    background-color: var(--hover-bg-color);\n",
              "    box-shadow: 0 1px 2px rgba(60, 64, 67, 0.3), 0 1px 3px 1px rgba(60, 64, 67, 0.15);\n",
              "    fill: var(--button-hover-fill-color);\n",
              "  }\n",
              "\n",
              "  .colab-df-quickchart-complete:disabled,\n",
              "  .colab-df-quickchart-complete:disabled:hover {\n",
              "    background-color: var(--disabled-bg-color);\n",
              "    fill: var(--disabled-fill-color);\n",
              "    box-shadow: none;\n",
              "  }\n",
              "\n",
              "  .colab-df-spinner {\n",
              "    border: 2px solid var(--fill-color);\n",
              "    border-color: transparent;\n",
              "    border-bottom-color: var(--fill-color);\n",
              "    animation:\n",
              "      spin 1s steps(1) infinite;\n",
              "  }\n",
              "\n",
              "  @keyframes spin {\n",
              "    0% {\n",
              "      border-color: transparent;\n",
              "      border-bottom-color: var(--fill-color);\n",
              "      border-left-color: var(--fill-color);\n",
              "    }\n",
              "    20% {\n",
              "      border-color: transparent;\n",
              "      border-left-color: var(--fill-color);\n",
              "      border-top-color: var(--fill-color);\n",
              "    }\n",
              "    30% {\n",
              "      border-color: transparent;\n",
              "      border-left-color: var(--fill-color);\n",
              "      border-top-color: var(--fill-color);\n",
              "      border-right-color: var(--fill-color);\n",
              "    }\n",
              "    40% {\n",
              "      border-color: transparent;\n",
              "      border-right-color: var(--fill-color);\n",
              "      border-top-color: var(--fill-color);\n",
              "    }\n",
              "    60% {\n",
              "      border-color: transparent;\n",
              "      border-right-color: var(--fill-color);\n",
              "    }\n",
              "    80% {\n",
              "      border-color: transparent;\n",
              "      border-right-color: var(--fill-color);\n",
              "      border-bottom-color: var(--fill-color);\n",
              "    }\n",
              "    90% {\n",
              "      border-color: transparent;\n",
              "      border-bottom-color: var(--fill-color);\n",
              "    }\n",
              "  }\n",
              "</style>\n",
              "\n",
              "      <script>\n",
              "        async function quickchart(key) {\n",
              "          const quickchartButtonEl =\n",
              "            document.querySelector('#' + key + ' button');\n",
              "          quickchartButtonEl.disabled = true;  // To prevent multiple clicks.\n",
              "          quickchartButtonEl.classList.add('colab-df-spinner');\n",
              "          try {\n",
              "            const charts = await google.colab.kernel.invokeFunction(\n",
              "                'suggestCharts', [key], {});\n",
              "          } catch (error) {\n",
              "            console.error('Error during call to suggestCharts:', error);\n",
              "          }\n",
              "          quickchartButtonEl.classList.remove('colab-df-spinner');\n",
              "          quickchartButtonEl.classList.add('colab-df-quickchart-complete');\n",
              "        }\n",
              "        (() => {\n",
              "          let quickchartButtonEl =\n",
              "            document.querySelector('#df-e443409f-852a-4905-a3b9-a86feb375814 button');\n",
              "          quickchartButtonEl.style.display =\n",
              "            google.colab.kernel.accessAllowed ? 'block' : 'none';\n",
              "        })();\n",
              "      </script>\n",
              "    </div>\n",
              "\n",
              "    </div>\n",
              "  </div>\n"
            ],
            "application/vnd.google.colaboratory.intrinsic+json": {
              "type": "dataframe",
              "variable_name": "df",
              "summary": "{\n  \"name\": \"df\",\n  \"rows\": 100,\n  \"fields\": [\n    {\n      \"column\": \"region\",\n      \"properties\": {\n        \"dtype\": \"category\",\n        \"num_unique_values\": 8,\n        \"samples\": [\n          \"Antarctic\",\n          \"North America\",\n          \"Africa\"\n        ],\n        \"semantic_type\": \"\",\n        \"description\": \"\"\n      }\n    },\n    {\n      \"column\": \"island\",\n      \"properties\": {\n        \"dtype\": \"string\",\n        \"num_unique_values\": 100,\n        \"samples\": [\n          \"Ellesmere (Nunavut)\",\n          \"Cape Breton\",\n          \"Axel Heiberg (Nunavut)\"\n        ],\n        \"semantic_type\": \"\",\n        \"description\": \"\"\n      }\n    },\n    {\n      \"column\": \"area\",\n      \"properties\": {\n        \"dtype\": \"number\",\n        \"std\": 253359,\n        \"min\": 5302,\n        \"max\": 2166086,\n        \"num_unique_values\": 98,\n        \"samples\": [\n          11067,\n          2166086,\n          5302\n        ],\n        \"semantic_type\": \"\",\n        \"description\": \"\"\n      }\n    },\n    {\n      \"column\": \"countries\",\n      \"properties\": {\n        \"dtype\": \"category\",\n        \"num_unique_values\": 35,\n        \"samples\": [\n          \"Papua New Guinea\",\n          \"Norway\",\n          \"Dominican Republic, Haiti\"\n        ],\n        \"semantic_type\": \"\",\n        \"description\": \"\"\n      }\n    },\n    {\n      \"column\": \"climate\",\n      \"properties\": {\n        \"dtype\": \"category\",\n        \"num_unique_values\": 3,\n        \"samples\": [\n          \"tropics\",\n          \"temperate\",\n          \"polar\"\n        ],\n        \"semantic_type\": \"\",\n        \"description\": \"\"\n      }\n    },\n    {\n      \"column\": \"rank\",\n      \"properties\": {\n        \"dtype\": \"number\",\n        \"std\": 28,\n        \"min\": 1,\n        \"max\": 100,\n        \"num_unique_values\": 98,\n        \"samples\": [\n          66,\n          1,\n          100\n        ],\n        \"semantic_type\": \"\",\n        \"description\": \"\"\n      }\n    }\n  ]\n}"
            }
          },
          "metadata": {},
          "execution_count": 4
        }
      ],
      "source": [
        "import pandas as pd\n",
        "import matplotlib.pyplot as plt\n",
        "\n",
        "df = pd.read_csv('largest-islands.csv')\n",
        "df.head()"
      ]
    },
    {
      "cell_type": "markdown",
      "metadata": {
        "id": "4PvZCg1KuzDd"
      },
      "source": [
        "### Project Ideas\n",
        "\n",
        "- What are the 10 largest islands in the tropics?\n",
        "\n",
        "- What are the largest islands in each `region`?\n",
        "\n",
        "- Create a line graph with `area` on the y-axis and `rank` on the x-axis. The data should be ordered by `rank`, from largest to smallest.\n",
        "\n",
        "- What islands are composed of multiple countries?\n",
        "\t- Hint: try `countries.str.contains(\",\")`"
      ]
    },
    {
      "cell_type": "code",
      "source": [
        "largest_islands = df.sort_values(by='area', ascending=False).head(10)\n",
        "print(\"The 10 largest islands in the world are:\")\n",
        "print(largest_islands[['island', 'area', 'region', 'countries']])"
      ],
      "metadata": {
        "colab": {
          "base_uri": "https://localhost:8080/"
        },
        "id": "i_xF1ohy-CvJ",
        "outputId": "55381438-46be-47b1-d065-7e4640fed26e"
      },
      "execution_count": 6,
      "outputs": [
        {
          "output_type": "stream",
          "name": "stdout",
          "text": [
            "The 10 largest islands in the world are:\n",
            "                 island     area         region                    countries\n",
            "41            Greenland  2166086         Europe                      Denmark\n",
            "86           New Guinea   821400        Oceania  Papua New Guinea, Indonesia\n",
            "23               Borneo   755000           Asia  Indonesia, Malaysia, Brunei\n",
            "0            Madagascar   591896         Africa                   Madagascar\n",
            "75        Baffin Island   507451  North America                       Canada\n",
            "28              Sumatra   480793           Asia                    Indonesia\n",
            "27               Honshu   227898           Asia                        Japan\n",
            "69      Victoria Island   217291  North America                       Canada\n",
            "43        Great Britain   209331         Europe               United Kingdom\n",
            "83  Ellesmere (Nunavut)   196236  North America                       Canada\n"
          ]
        }
      ]
    },
    {
      "cell_type": "code",
      "source": [
        "largest_by_region = df.loc[df.groupby('region')['area'].idxmax()]\n",
        "\n",
        "print(\"The largest island in each region are:\")\n",
        "print(largest_by_region[['region', 'island', 'area', 'countries']])"
      ],
      "metadata": {
        "colab": {
          "base_uri": "https://localhost:8080/"
        },
        "id": "4M7IYpoJDXYH",
        "outputId": "0b78a172-159f-482b-82a2-f69cdb2047da"
      },
      "execution_count": 9,
      "outputs": [
        {
          "output_type": "stream",
          "name": "stdout",
          "text": [
            "The largest island in each region are:\n",
            "           region                           island     area  \\\n",
            "0          Africa                       Madagascar   591896   \n",
            "1       Antarctic                        Kerguelen     6200   \n",
            "23           Asia                           Borneo   755000   \n",
            "35        Eurasia                         Sakhalin    76400   \n",
            "41         Europe                        Greenland  2166086   \n",
            "75  North America                    Baffin Island   507451   \n",
            "86        Oceania                       New Guinea   821400   \n",
            "98  South America  Isla Grande de Tierra del Fuego    47992   \n",
            "\n",
            "                      countries  \n",
            "0                    Madagascar  \n",
            "1       Antarctic Lands, France  \n",
            "23  Indonesia, Malaysia, Brunei  \n",
            "35                       Russia  \n",
            "41                      Denmark  \n",
            "75                       Canada  \n",
            "86  Papua New Guinea, Indonesia  \n",
            "98             Chile, Argentina  \n"
          ]
        }
      ]
    },
    {
      "cell_type": "code",
      "source": [
        "# filter tropics\n",
        "tropics_df = df[df['climate'] == 'tropics']\n",
        "\n",
        "# sort by area in descending order\n",
        "largest_tropics = tropics_df.sort_values(by='area', ascending=False).head(10)\n",
        "\n",
        "print(\"The 10 largest islands in the tropics are:\")\n",
        "print(largest_tropics[['island', 'area', 'region', 'countries']])"
      ],
      "metadata": {
        "colab": {
          "base_uri": "https://localhost:8080/"
        },
        "id": "ze6lcfMpEsYy",
        "outputId": "d1929de6-5683-4ad5-a304-d861f4a673b9"
      },
      "execution_count": 14,
      "outputs": [
        {
          "output_type": "stream",
          "name": "stdout",
          "text": [
            "The 10 largest islands in the tropics are:\n",
            "        island    area         region                    countries\n",
            "86  New Guinea  821400        Oceania  Papua New Guinea, Indonesia\n",
            "23      Borneo  755000           Asia  Indonesia, Malaysia, Brunei\n",
            "0   Madagascar  591896         Africa                   Madagascar\n",
            "28     Sumatra  480793           Asia                    Indonesia\n",
            "22    Sulawesi  188522           Asia                    Indonesia\n",
            "21        Java  129438           Asia                    Indonesia\n",
            "80        Cuba  109884  North America                         Cuba\n",
            "26       Luzon  104688           Asia                  Philippines\n",
            "14    Mindanao   94630           Asia                  Philippines\n",
            "73  Hispaniola   76192  North America    Dominican Republic, Haiti\n"
          ]
        }
      ]
    },
    {
      "cell_type": "code",
      "source": [
        "# Sort data by rank\n",
        "\n",
        "df_sorted = df.sort_values(by='rank', ascending=False)\n",
        "\n",
        "# Plot area vs rank\n",
        "plt.figure(figsize=(10, 6))\n",
        "plt.plot(df_sorted['rank'], df_sorted['area'], marker='o', linestyle='-', color='b')\n",
        "plt.title('Area vs Rank of Islands')\n",
        "plt.xlabel('Rank')\n",
        "plt.ylabel('Area (km2)')\n",
        "plt.grid(True)\n",
        "plt.show()"
      ],
      "metadata": {
        "colab": {
          "base_uri": "https://localhost:8080/",
          "height": 401
        },
        "id": "Ry1z4rfBCFOE",
        "outputId": "0a3f7995-50e9-4b16-f46f-c6ccaade14d0"
      },
      "execution_count": 16,
      "outputs": [
        {
          "output_type": "display_data",
          "data": {
            "text/plain": [
              "<Figure size 1000x600 with 1 Axes>"
            ],
            "image/png": "[encoded data removed]"
          },
          "metadata": {}
        }
      ]
    },
    {
      "cell_type": "code",
      "source": [
        "multiple_countries = df[df['countries'].str.contains(',')]\n",
        "\n",
        "print(\"Islands composed of multiple countries:\")\n",
        "print(multiple_countries[['island', 'countries']])"
      ],
      "metadata": {
        "colab": {
          "base_uri": "https://localhost:8080/"
        },
        "id": "omPFl9fPHXqy",
        "outputId": "10a4cffc-ac69-4599-e014-eaedfe5135e3"
      },
      "execution_count": 17,
      "outputs": [
        {
          "output_type": "stream",
          "name": "stdout",
          "text": [
            "Islands composed of multiple countries:\n",
            "                             island                    countries\n",
            "1                         Kerguelen      Antarctic Lands, France\n",
            "23                           Borneo  Indonesia, Malaysia, Brunei\n",
            "45                          Ireland      Ireland, United Kingdom\n",
            "50                           Cyprus       Cyprus, United Kingdom\n",
            "73                       Hispaniola    Dominican Republic, Haiti\n",
            "86                       New Guinea  Papua New Guinea, Indonesia\n",
            "98  Isla Grande de Tierra del Fuego             Chile, Argentina\n"
          ]
        }
      ]
    }
  ],
  "metadata": {
    "kernelspec": {
      "display_name": "Python 3",
      "language": "python",
      "name": "python3"
    },
    "language_info": {
      "codemirror_mode": {
        "name": "ipython",
        "version": 3
      },
      "file_extension": ".py",
      "mimetype": "text/x-python",
      "name": "python",
      "nbconvert_exporter": "python",
      "pygments_lexer": "ipython3",
      "version": "3.9.6"
    },
    "colab": {
      "provenance": []
    }
  },
  "nbformat": 4,
  "nbformat_minor": 0
}